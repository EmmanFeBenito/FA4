{
 "cells": [
  {
   "cell_type": "markdown",
   "id": "b2508b8a-7c75-496e-8de9-baa6a17af38f",
   "metadata": {},
   "source": [
    "## 1. Write a Python program to print the even numbers from a given list."
   ]
  },
  {
   "cell_type": "code",
   "execution_count": 15,
   "id": "7b815208-8b65-479c-ae3a-c5d5d83869e8",
   "metadata": {},
   "outputs": [
    {
     "name": "stdout",
     "output_type": "stream",
     "text": [
      "2\n",
      "4\n",
      "6\n",
      "8\n",
      "10\n",
      "24\n",
      "26\n",
      "28\n",
      "30\n",
      "32\n"
     ]
    }
   ],
   "source": [
    "List = [1, 2, 3, 4, 5, 6, 7, 8, 9, 10, 11, 13, 15, 17, 19, 24, 26, 28, 30, 32]\n",
    "\n",
    "def even_list(List):\n",
    "    even = [n for n in List if n % 2 == 0]\n",
    "    for n in even:\n",
    "        print(n)\n",
    "\n",
    "even_list(List)"
   ]
  },
  {
   "cell_type": "markdown",
   "id": "d1fad010-fde8-4183-a4fd-cccbdaa9083b",
   "metadata": {},
   "source": [
    "## 2. Generate a Python list of all the even numbers between 10 to 60."
   ]
  },
  {
   "cell_type": "code",
   "execution_count": 13,
   "id": "5f02564a-6cd1-4df2-9f57-5b415654f498",
   "metadata": {},
   "outputs": [
    {
     "name": "stdout",
     "output_type": "stream",
     "text": [
      "[10, 12, 14, 16, 18, 20, 22, 24, 26, 28, 30, 32, 34, 36, 38, 40, 42, 44, 46, 48, 50, 52, 54, 56, 58, 60]\n"
     ]
    }
   ],
   "source": [
    "even_numbers = [num for num in range(10, 61) if num % 2 == 0]\n",
    "\n",
    "print(even_numbers)"
   ]
  },
  {
   "cell_type": "markdown",
   "id": "1e357d82-24ce-4e98-b067-bb24eeb30d9d",
   "metadata": {},
   "source": [
    "## 3. Write a program to create a function show_feu_professor() using the following conditions:"
   ]
  },
  {
   "cell_type": "code",
   "execution_count": 35,
   "id": "3d4c5b6a-8a51-4a5f-bd2e-7b512f64a219",
   "metadata": {},
   "outputs": [
    {
     "name": "stdout",
     "output_type": "stream",
     "text": [
      "Name: Pedro Perez\n",
      "Salary: 70000\n",
      "\n",
      "Name: Maria Gonzales\n",
      "Salary: 100000\n",
      "\n",
      "Name: Miguel Torres\n",
      "Salary: 120000\n",
      "\n",
      "Name: Juan Santos\n",
      "Salary: 80000\n",
      "\n",
      "Name: Jose Reyes\n",
      "Salary: 130000\n",
      "\n"
     ]
    }
   ],
   "source": [
    "import random\n",
    "\n",
    "professors = [\n",
    "    {\"name\": \"Juan Santos\", \"salary\": 80000},\n",
    "    {\"name\": \"Maria Gonzales\", \"salary\": 100000},\n",
    "    {\"name\": \"Jose Reyes\", \"salary\": 130000},\n",
    "    {\"name\": \"Luz Cruz\", \"salary\": 90000},\n",
    "    {\"name\": \"Pedro Perez\"},\n",
    "    {\"name\": \"Ana Garcia\", \"salary\": 69000},\n",
    "    {\"name\": \"Miguel Torres\", \"salary\": 120000},\n",
    "    {\"name\": \"Carmen Lopez\", \"salary\": 85000},\n",
    "    {\"name\": \"Ramon Martinez\", \"salary\": 78000},\n",
    "    {\"name\": \"Lorna Dela Cruz\"}\n",
    "]\n",
    "\n",
    "def show_feu_professor(name, salary=70000):\n",
    "    print(\"Name:\", name)\n",
    "    print(\"Salary:\", salary)\n",
    "    print()\n",
    "\n",
    "selected_professors = random.sample(professors, 5)\n",
    "for professor in selected_professors:\n",
    "    name = professor[\"name\"]\n",
    "    salary = professor.get(\"salary\", 70000) \n",
    "    show_feu_professor(name, salary)"
   ]
  }
 ],
 "metadata": {
  "kernelspec": {
   "display_name": "Python 3 (ipykernel)",
   "language": "python",
   "name": "python3"
  },
  "language_info": {
   "codemirror_mode": {
    "name": "ipython",
    "version": 3
   },
   "file_extension": ".py",
   "mimetype": "text/x-python",
   "name": "python",
   "nbconvert_exporter": "python",
   "pygments_lexer": "ipython3",
   "version": "3.12.1"
  }
 },
 "nbformat": 4,
 "nbformat_minor": 5
}
